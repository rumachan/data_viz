{
 "cells": [
  {
   "cell_type": "markdown",
   "metadata": {},
   "source": [
    "# High temperature at Ruapehu Crater Lake does not imply there is going to be an eruption\n",
    "\n",
    "## Introduction\n",
    "How do we make a data visualization that helps explain that just because the temperature of Ruapehu Crater Lake is high, it does not mean that its going to erupt. Our previous attempts have focused on showing the temperature data themselves, but maybe this is too much data, and it doesn't directly address the point we want to make.\n",
    "\n",
    "\n",
    "## Purpose:\n",
    "To create and visualise data that directly support our message. Do that for an audience that includes the stakeholders and the general public.\n",
    "\n",
    "## Data Set and Justification:\n",
    "The temperature of Ruapehu Crater Lake recorded by a data logger and manual sampling. The data set is restricted to the period since the lake was established following the 1995-96 eruptions. This period is chosen as the previously recognised pattern of a high lake temperature being associated with small eruptions seems to no longer apply. In other words, statistical analysis of eruptions and lake temperature that informs DOC response may not be correct.\n",
    "\n",
    "Using the temperature data we count the number of periods of high temperature. High temperature is defined as a period when:\n",
    "- the temperature reaches the top 25% of values, above about 32 deg\n",
    "- the temperature has risen to that from below the median value, about 24 deg\n",
    "- multiple-peaks count as a single period, unless the temperture drops below the median\n",
    "We count the number of eruptions during this period, and the number that have occurred when the lake temperture has been high.\n",
    "\n",
    "## Key Message:\n",
    "A derived data set may be the best to get your message across.\n",
    "\n",
    "## Author:\n",
    "Steven Sherburn\n",
    "\n",
    "## Date:\n",
    "July 2018"
   ]
  },
  {
   "cell_type": "code",
   "execution_count": null,
   "metadata": {},
   "outputs": [],
   "source": [
    "from IPython.display import HTML\n",
    "import pandas as pd\n",
    "import matplotlib.pyplot as plt\n",
    "from matplotlib import style\n",
    "from IPython.display import Image\n",
    "%matplotlib inline"
   ]
  },
  {
   "cell_type": "code",
   "execution_count": null,
   "metadata": {},
   "outputs": [],
   "source": [
    "%%javascript\n",
    "IPython.OutputArea.prototype._should_scroll = function(lines) {\n",
    "    return false;\n",
    "}"
   ]
  },
  {
   "cell_type": "code",
   "execution_count": null,
   "metadata": {},
   "outputs": [],
   "source": [
    "from IPython.core.display import display, HTML\n",
    "display(HTML(\"<style>.container { width:100% !important; }</style>\"))"
   ]
  },
  {
   "cell_type": "markdown",
   "metadata": {},
   "source": [
    "## Retrieve the data so we can count the high temperature periods"
   ]
  },
  {
   "cell_type": "code",
   "execution_count": null,
   "metadata": {
    "scrolled": true
   },
   "outputs": [],
   "source": [
    "url = 'http://fits.geonet.org.nz/observation?siteID=RU001&typeID=t&days=6500'\n",
    "df = pd.read_csv(url, parse_dates=['date-time'], index_col=['date-time'], usecols = ['date-time', ' t (C)'])"
   ]
  },
  {
   "cell_type": "markdown",
   "metadata": {},
   "source": [
    "**Establish a daily samping**\n",
    "\n",
    "Early data are about monthly intervals, later 15 mins. Resample as a daily mean, then linearly interpolate those. This allows us to estimate the data distribution."
   ]
  },
  {
   "cell_type": "code",
   "execution_count": null,
   "metadata": {},
   "outputs": [],
   "source": [
    "dfd = df.resample('D').mean().interpolate(method='linear')\n",
    "dfd[' t (C)'].describe()"
   ]
  },
  {
   "cell_type": "code",
   "execution_count": null,
   "metadata": {
    "scrolled": true
   },
   "outputs": [],
   "source": [
    "temp = dfd[' t (C)'].plot(figsize=(15,5))\n",
    "temp.axhline(dfd[' t (C)'].quantile(q=0.75), color='red', linestyle='dashed', linewidth=1)\n",
    "temp.axhline(dfd[' t (C)'].median(), color='green', linestyle='dashed', linewidth=1)"
   ]
  },
  {
   "cell_type": "markdown",
   "metadata": {},
   "source": [
    "## Our dataset\n",
    "\n",
    "Using our definition, there are 16 periods of high temperatures.\n",
    "\n",
    "We take the 'conservative' approach and count 2006 as well as 2007 as an eruption. The VAB following the 2006 event describes it as a small hydrothermal eruption."
   ]
  },
  {
   "cell_type": "code",
   "execution_count": null,
   "metadata": {},
   "outputs": [],
   "source": [
    "d = [{'feature': 'periods of high temperature ', 'value': 16},\n",
    "         {'feature': 'eruptions', 'value': 2},\n",
    "         {'feature': 'eruptions during high temperature periods', 'value': 0}]\n",
    "data = pd.DataFrame.from_dict(d)\n",
    "data.set_index('feature')"
   ]
  },
  {
   "cell_type": "code",
   "execution_count": null,
   "metadata": {},
   "outputs": [],
   "source": [
    "style.use('fivethirtyeight')\n",
    "\n",
    "fig = plt.figure(figsize=(15,5))\n",
    "\n",
    "ax1 = fig.add_subplot(1, 1, 1)\n",
    "ax1.bar(data.feature, data.value, color='indianred')\n",
    "fig.gca().xaxis.grid(False)\n",
    "ax1.set_ylabel('Number of observations', color='gray')\n",
    "\n",
    "#titles\n",
    "ax1.text(x = 0.03, y = 1, transform=fig.transFigure, s = 'High temperature at Ruapehu Crater Lake does not mean there is going to be an eruption', fontsize=20, weight='semibold')\n",
    "ax1.text(x = 0.03, y = 0.925, transform=fig.transFigure, s = 'High temperature periods and eruptions since Ruapehu Crater Lake reformed after the 1995-96 eruptions; data since 2001', fontsize=14, color='gray')\n",
    "\n",
    "#text boxes\n",
    "ax1.text(2, 0.5, 'NONE', color='indianred', ha='center', fontsize=20, weight='bold')\n",
    "\n",
    "#signature bar\n",
    "ax1.text(x = 0, y = -0.05, transform=fig.transFigure, s = 'GeoNet, www.geonet.org.nz', fontsize = 14, color = 'darkgray')\n",
    "ax1.text(x = 0.95, y = -0.05, transform=fig.transFigure, s = 'SOURCE: GEONET, FITS AND ERUPTION DATABASES', horizontalalignment='right', fontsize = 14, color = 'darkgray');"
   ]
  }
 ],
 "metadata": {
  "kernelspec": {
   "display_name": "Python 3",
   "language": "python",
   "name": "python3"
  },
  "language_info": {
   "codemirror_mode": {
    "name": "ipython",
    "version": 3
   },
   "file_extension": ".py",
   "mimetype": "text/x-python",
   "name": "python",
   "nbconvert_exporter": "python",
   "pygments_lexer": "ipython3",
   "version": "3.6.5"
  }
 },
 "nbformat": 4,
 "nbformat_minor": 2
}
