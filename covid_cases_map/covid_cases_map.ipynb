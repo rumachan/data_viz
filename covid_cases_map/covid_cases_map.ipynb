{
 "cells": [
  {
   "cell_type": "markdown",
   "metadata": {},
   "source": [
    "# Choropleth Map of COVID-19 Cases in NZ"
   ]
  },
  {
   "cell_type": "code",
   "execution_count": null,
   "metadata": {},
   "outputs": [],
   "source": [
    "import geopandas as gpd\n",
    "import matplotlib.pyplot as plt\n",
    "import pandas as pd\n",
    "from mpl_toolkits.axes_grid1 import make_axes_locatable\n",
    "from IPython.display import Image\n"
   ]
  },
  {
   "cell_type": "markdown",
   "metadata": {},
   "source": [
    "## Web site's visualizations are simply showing cases as circles centred on the major city in each DHB - could do better!"
   ]
  },
  {
   "cell_type": "code",
   "execution_count": null,
   "metadata": {},
   "outputs": [],
   "source": [
    "#image from https://thespinoff.co.nz/covid-19/06-04-2020/covid-19-new-zealand-cases-mapped-and-charted-april-6/\n",
    "Image(\"web_example.png\", width=500)"
   ]
  },
  {
   "cell_type": "code",
   "execution_count": null,
   "metadata": {},
   "outputs": [],
   "source": [
    "dhbs = gpd.read_file('district-health-board-2015.shp', rows=20)"
   ]
  },
  {
   "cell_type": "code",
   "execution_count": null,
   "metadata": {},
   "outputs": [],
   "source": [
    "dhbs.head()"
   ]
  },
  {
   "cell_type": "code",
   "execution_count": null,
   "metadata": {},
   "outputs": [],
   "source": [
    "#datafroma for covid-19 cases\n",
    "#https://thespinoff.co.nz/covid-19/06-04-2020/covid-19-new-zealand-cases-mapped-and-charted-april-6/\n",
    "df = pd.read_csv('cases_by_dhb.csv')\n",
    "df.head()"
   ]
  },
  {
   "cell_type": "code",
   "execution_count": null,
   "metadata": {},
   "outputs": [],
   "source": [
    "#merge cases into dhb dataframe\n",
    "cases = dhbs.merge(df, left_on='DHB2015_Na', right_on='DHB', how='inner')\n",
    "cases.head()"
   ]
  },
  {
   "cell_type": "code",
   "execution_count": null,
   "metadata": {},
   "outputs": [],
   "source": [
    "fig,ax = plt.subplots(figsize=(15,15))\n",
    "cs = cases.plot(ax=ax, cmap='OrRd', column='Cases today', legend=True, legend_kwds={'label': \"Total COVID-19 cases\", 'shrink': 0.5})\n",
    "ax.set_axis_off()\n",
    "ax.set_title('COVID-19 Cases, by DHB, 2020-04-06', fontsize=20)\n",
    "plt.gcf()\n",
    "plt.savefig('covid-19.png')"
   ]
  }
 ],
 "metadata": {
  "kernelspec": {
   "display_name": "Python 3",
   "language": "python",
   "name": "python3"
  },
  "language_info": {
   "codemirror_mode": {
    "name": "ipython",
    "version": 3
   },
   "file_extension": ".py",
   "mimetype": "text/x-python",
   "name": "python",
   "nbconvert_exporter": "python",
   "pygments_lexer": "ipython3",
   "version": "3.7.6"
  }
 },
 "nbformat": 4,
 "nbformat_minor": 4
}
