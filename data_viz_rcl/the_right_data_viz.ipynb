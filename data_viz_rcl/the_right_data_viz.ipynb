{
 "cells": [
  {
   "cell_type": "markdown",
   "metadata": {},
   "source": [
    "# What is the right data visualisation for the target audience?\n",
    "\n",
    "## Introduction\n",
    "The ideas behind this Notebook are based on some things I picked up in a video called Introduction to Data Visualization by David Taylor https://www.youtube.com/watch?v=XIgjTuDGXYY, http://dtdata.io/prm/intro_dataviz.pdf\n",
    "\n",
    "The essential idea is that there are several distinct target audiences for a data visualisation, in this case four audiences. They are:\n",
    "1. yourself\n",
    "2. your peers\n",
    "3. your superiors, this might be your managers, or the reviewers or editors of a journal where you are trying to publish an article\n",
    "4. everyone else, this is represented by stakeholders and the 'general public'\n",
    "\n",
    "These might be considered the same as 'personas' we'd use in project planning.\n",
    "\n",
    "## Purpose:\n",
    "To visualise the same data set in four ways, trying to find the best visualisation for the audience.\n",
    "\n",
    "## Data Set:\n",
    "This Notebook uses the temperature of Ruapehu Crater Lake recorded by a data logger at the lake as the data set. The data set is restricted to the last year (365 days), just because it's convenient. The data visualised are the daily average temperature values. The data are read from a file so that the visualisation is 'static'.\n",
    "\n",
    "## Key Message:\n",
    "- Horses for courses. A specific content and style in a visualisation suits a particular audience.\n",
    "- Don't make the visualisation more complex than is necessary, for example for audiences 1 and 2, that are likely to be at least somewhat familiar with the data, don't make a visualisation more complex than is needed, its just a waste of time and effort.\n",
    "- For your superiors and others, who are unlikely to be very knowledgeable about the data being visualised, make sure the visualisation contains enough 'supporting information' that the audience understands your key message.\n",
    "- For others (stakeholders and the general public), don't expect to get away without making a special effort so that the audience understands what you are trying to tell them.\n",
    "\n",
    "## Author:\n",
    "Steven Sherburn\n",
    "\n",
    "## Date:\n",
    "June 2018"
   ]
  },
  {
   "cell_type": "code",
   "execution_count": null,
   "metadata": {},
   "outputs": [],
   "source": [
    "from IPython.display import HTML\n",
    "import pandas as pd\n",
    "import matplotlib.pyplot as plt\n",
    "from matplotlib import style\n",
    "from IPython.display import Image\n",
    "%matplotlib inline"
   ]
  },
  {
   "cell_type": "code",
   "execution_count": null,
   "metadata": {},
   "outputs": [],
   "source": [
    "%%javascript\n",
    "IPython.OutputArea.prototype._should_scroll = function(lines) {\n",
    "    return false;\n",
    "}"
   ]
  },
  {
   "cell_type": "code",
   "execution_count": null,
   "metadata": {},
   "outputs": [],
   "source": [
    "from IPython.core.display import display, HTML\n",
    "display(HTML(\"<style>.container { width:100% !important; }</style>\"))"
   ]
  },
  {
   "cell_type": "code",
   "execution_count": null,
   "metadata": {},
   "outputs": [],
   "source": [
    "HTML('''<script>\n",
    "code_show=true; \n",
    "function code_toggle() {\n",
    " if (code_show){\n",
    " $('div.input').hide();\n",
    " } else {\n",
    " $('div.input').show();\n",
    " }\n",
    " code_show = !code_show\n",
    "} \n",
    "$( document ).ready(code_toggle);\n",
    "</script>\n",
    "The raw code for this IPython notebook is, by default, hidden for easier reading.\n",
    "To toggle on/off the raw code, click <a href=\"javascript:code_toggle()\">here</a>.''')"
   ]
  },
  {
   "cell_type": "code",
   "execution_count": null,
   "metadata": {},
   "outputs": [],
   "source": [
    "#read the data, use a snapshot of the data so this visualisation is 'static'\n",
    "file = 'FITS-RU001-t-logic.csv'\n",
    "df = pd.read_csv(file, parse_dates=['date-time'], index_col=['date-time'], usecols = ['date-time', ' t (C)'])\n",
    "\n",
    "#resample as daily mean\n",
    "dfday = df.resample('D').mean()"
   ]
  },
  {
   "cell_type": "markdown",
   "metadata": {},
   "source": [
    "## Visualisation #1, Target Audience = Yourself\n",
    "\n",
    "**Often you simply want to have a quick look at some data. You are familiar with the data so the visualisation is as simple as you can make it.**\n",
    "\n",
    "**In this case I simply join data points with a line. I do not label either the x- or y-axes, as I know what I'm plotting. Values on the x- and y-axes are shown as they come automatically with the method I've used to visualise the data.**"
   ]
  },
  {
   "cell_type": "code",
   "execution_count": null,
   "metadata": {
    "scrolled": true
   },
   "outputs": [],
   "source": [
    "style.use('default')\n",
    "\n",
    "fig = plt.figure(figsize=(15,5))\n",
    "\n",
    "ax1 = fig.add_subplot(1, 1, 1)\n",
    "ax1.plot(dfday[' t (C)']);"
   ]
  },
  {
   "cell_type": "markdown",
   "metadata": {},
   "source": [
    "## Visualisation #2, Target Audience = Your Peers\n",
    "\n",
    "**If you are discussing some data with your peer group, you can reasonably expect that they have some familiarity with the data, but they are obviously not as familiar as you are.**\n",
    "\n",
    "**I add axis labels and a title so everyone knows what the data are. I am still using the default 'plotting style' which are very simple.**"
   ]
  },
  {
   "cell_type": "code",
   "execution_count": null,
   "metadata": {
    "scrolled": true
   },
   "outputs": [],
   "source": [
    "style.use('default')\n",
    "\n",
    "fig = plt.figure(figsize=(15,5))\n",
    "\n",
    "ax1 = fig.add_subplot(1, 1, 1)\n",
    "ax1.plot(dfday[' t (C)']);\n",
    "ax1.set_ylabel('Temperature (deg C)')\n",
    "ax1.set_title('Ruapehu Crater Lake Temperature', fontsize=20);"
   ]
  },
  {
   "cell_type": "markdown",
   "metadata": {},
   "source": [
    "## Plots from FITS are quite similar, with axis labels, and a title, but look fairly basic. But they do the job for this audience.\n",
    "\n",
    "The data in FITS are at a much higher sampling rate, which accounts for the difference in the plotted line.\n",
    "![](fitsplot.svg)"
   ]
  },
  {
   "cell_type": "markdown",
   "metadata": {},
   "source": [
    "## Visualisation #3, Target Audience = Your Superiors\n",
    "\n",
    "**If you are visualising some data for your superior group, such as your manager or senior staff within GNS, or with an external technical group such as a journal editor or attendees at technical conference, you can reasonably expect that they will have some familiarity with the broad context of the data (e.g. it's from a lake at a volcano), but they are unlikely to be more familiar with the data set.**\n",
    "\n",
    "**I need to add information that explains what the data are, and where they come from (how they are collected), and any relevant details of how the data are 'processed'. I argue that the default 'plotting style', while quite 'basic', is still appropriate for this audience.**"
   ]
  },
  {
   "cell_type": "code",
   "execution_count": null,
   "metadata": {
    "scrolled": true
   },
   "outputs": [],
   "source": [
    "style.use('default')\n",
    "\n",
    "fig = plt.figure(figsize=(15,5))\n",
    "\n",
    "ax1 = fig.add_subplot(1, 1, 1)\n",
    "ax1.plot(dfday[' t (C)'], label='Daily average temperature')\n",
    "ax1.set_ylabel('Temperature (deg C)')\n",
    "ax1.set_xlabel('Date')\n",
    "fig.suptitle('Temperature of Ruapehu Crater Lake, New Zealand - Last Year of Data', fontsize=20)\n",
    "ax1.set_title('Measured using a temperature probe in the lake, connected to a data logger. Data retrieved daily using satellite telemetry.')\n",
    "ax1.legend(loc='best');"
   ]
  },
  {
   "cell_type": "markdown",
   "metadata": {},
   "source": [
    "## Visualisation #4, Target Audience = Everyone Else, the General Public\n",
    "\n",
    "**This is the target audience if you are preparing a data visualisation for a Volcanic Alert Bulletin (provided its not the rapid response to an eruption), a GeoNet news story, or a presentation to any group of non-scientists.**\n",
    "\n",
    "**The key goal here is to 'clarify' what message you are trying to give with the data visualisation, not just to 'simplify' what is been shown/said.**\n",
    "\n",
    "**I argue that the default 'plotting style' is not suitable for this audience, we need something with a bit more 'oomph', something that media organisations might typically use in their visualisations. Here I use the style 'fivethirtyeight' which is designed to produce visualisations similar to that on the blog http://fivethirtyeight.com/. With this style we get a nice grey background, grid lines at suitable intervals, and a thicker plot line.**\n",
    "\n",
    "**Other changes are:**\n",
    "- **The title now spells out the key message**\n",
    "- **The sub-title takes on the role a title would normally have in a figure in scientific literature**\n",
    "- **Title and sub-title are left justified, this looks nicer than standard scientific centering, and fits with my fivethirtyeight.com theme**\n",
    "- **No legend, its not needed**\n",
    "- **A signature bar**\n",
    " - **This is where the agency producing the visualisation is credited - GeoNet**\n",
    " - **This is where the data source for the visualisation is referenced GeoNet's FITS database**\n",
    "- **Text and graphics annotating features of the data that support the key message**"
   ]
  },
  {
   "cell_type": "code",
   "execution_count": null,
   "metadata": {},
   "outputs": [],
   "source": [
    "style.use('fivethirtyeight')\n",
    "\n",
    "fig = plt.figure(figsize=(15,5))\n",
    "\n",
    "ax1 = fig.add_subplot(1, 1, 1)\n",
    "ax1.plot(dfday[' t (C)'])\n",
    "ax1.set_ylabel('Temperature (degrees celcius)', color='gray')\n",
    "ax1.tick_params(colors='gray')\n",
    "\n",
    "#titles\n",
    "ax1.text(x = 0.03, y = 1, transform=fig.transFigure, s = 'The temperature of the crater lake at Ruapehu is now increasing rapidly', fontsize=20, weight='semibold')\n",
    "ax1.text(x = 0.03, y = 0.925, transform=fig.transFigure, s = 'The daily average temperature over the last year, measued by a sensor in the lake', fontsize=14, color='gray')\n",
    "\n",
    "#text boxes\n",
    "ax1.text('2017-09-01', 43, 'Highest since early-2016', color='black', ha='center')\n",
    "ax1.text('2017-07-29', 15.5, 'Lowest since mid-2016', color='black', ha='left')\n",
    "ax1.annotate('Temperature increase', xy=('2018-06-15', 30), xycoords='data', xytext=('2018-06-03', 18), textcoords='data',\n",
    "            size=14, va=\"center\", ha=\"center\", arrowprops=dict(arrowstyle=\"simple\", color='black', connectionstyle='arc3'))\n",
    "\n",
    "#signature bar\n",
    "ax1.text(x = 0, y = -0.05, transform=fig.transFigure, s = 'GeoNet, www.geonet.org.nz', fontsize = 14, color = 'darkgray')\n",
    "ax1.text(x = 0.95, y = -0.05, transform=fig.transFigure, s = 'SOURCE: GEONET, FITS DATABASE', horizontalalignment='right', fontsize = 14, color = 'darkgray');\n"
   ]
  }
 ],
 "metadata": {
  "kernelspec": {
   "display_name": "Python 3",
   "language": "python",
   "name": "python3"
  },
  "language_info": {
   "codemirror_mode": {
    "name": "ipython",
    "version": 3
   },
   "file_extension": ".py",
   "mimetype": "text/x-python",
   "name": "python",
   "nbconvert_exporter": "python",
   "pygments_lexer": "ipython3",
   "version": "3.6.5"
  }
 },
 "nbformat": 4,
 "nbformat_minor": 2
}
