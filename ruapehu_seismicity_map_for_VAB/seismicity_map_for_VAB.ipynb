{
 "cells": [
  {
   "cell_type": "markdown",
   "id": "electoral-vacuum",
   "metadata": {},
   "source": [
    "**USE MAPPING ENVIRONMENT**"
   ]
  },
  {
   "cell_type": "markdown",
   "id": "direct-horizontal",
   "metadata": {},
   "source": [
    "## Ruapehu 2022 January seismicity for VAB"
   ]
  },
  {
   "cell_type": "code",
   "execution_count": null,
   "id": "missing-illinois",
   "metadata": {},
   "outputs": [],
   "source": [
    "import matplotlib.pyplot as plt\n",
    "import matplotlib.dates as mdates\n",
    "import pandas as pd\n",
    "import geopandas as gpd\n",
    "from shapely.geometry import Polygon, Point\n",
    "\n",
    "import datetime as dt\n",
    "import numpy as np\n",
    "\n",
    "import cartopy.crs as ccrs\n",
    "from osgeo import gdal, osr\n",
    "gdal.UseExceptions()"
   ]
  },
  {
   "cell_type": "code",
   "execution_count": null,
   "id": "disturbed-origin",
   "metadata": {},
   "outputs": [],
   "source": [
    "def findbounds(infile, ds):\n",
    "    xpx = ds.RasterXSize\n",
    "    ypx = ds.RasterYSize\n",
    "    \n",
    "    tfw = open(infile, 'r')\n",
    "    content = [line.strip() for line in tfw.readlines()]\n",
    "    left = float(content[4])\n",
    "    top = float(content[5])\n",
    "    right = float(content[4]) + xpx * float(content[0])\n",
    "    bottom = float(content[5]) + ypx * float(content[3])\n",
    "    return (left, right, bottom, top)"
   ]
  },
  {
   "cell_type": "markdown",
   "id": "seeing-democracy",
   "metadata": {},
   "source": [
    "### Acquire earthquake data from GeoNet - Want to archive this and use a 'static' copy so data can't change if database changes\n",
    "Data acquired from GeoNet 2022-01-04 UTC."
   ]
  },
  {
   "cell_type": "code",
   "execution_count": null,
   "id": "apart-violence",
   "metadata": {},
   "outputs": [],
   "source": [
    "# curl \"http://wfs.geonet.org.nz/geonet/ows?service=WFS&version=1.0.0&request=GetFeature&typeName=geonet:quake_search_v1&maxFeatures=1000&outputFormat=csv&cql_filter=depth<10+AND+DWITHIN(origin_geom,Point+(175.564+-39.281),5000,meters)+AND+origintime>='2019-01-01'\" -o ruapehu_5km_since_2019.csv\n",
    "\n",
    "# start = '1980-01-01T00:00:00'\n",
    "# end = '2022-01-01T00:00:00'\n",
    "\n",
    "#box for search area, this is plenty big enough to at least get regional event distribution\n",
    "# bbox = '175.4,-38.9,176.4,-38.2'\n",
    "# maxdep = '30'\n",
    "\n",
    "# url = 'https://quakesearch.geonet.org.nz/csv?bbox='+bbox+'&maxdepth='+maxdep+'&startdate='+start+'&enddate='+end\n",
    "\n",
    "# df = pd.read_csv(url)\n",
    "\n",
    "# df.to_csv('geonet_quakesearch_1980-2021.csv', index=False)"
   ]
  },
  {
   "cell_type": "code",
   "execution_count": null,
   "id": "protecting-bumper",
   "metadata": {},
   "outputs": [],
   "source": [
    "#read previously acquired data file\n",
    "df = pd.read_csv('ruapehu_5km_since_2019.csv', parse_dates=['origintime'], usecols=[2,4,5,6,7,9,10,13])"
   ]
  },
  {
   "cell_type": "code",
   "execution_count": null,
   "id": "iraqi-winter",
   "metadata": {},
   "outputs": [],
   "source": [
    "df.head()"
   ]
  },
  {
   "cell_type": "code",
   "execution_count": null,
   "id": "military-while",
   "metadata": {},
   "outputs": [],
   "source": [
    "#eqs as a geopandas dataframe\n",
    "eqs = gpd.GeoDataFrame(\n",
    "    df, geometry=gpd.points_from_xy(df.longitude, df.latitude), crs='EPSG:4326')\n",
    "#compatible crs\n",
    "eqs.to_crs(crs=2193, inplace=True)"
   ]
  },
  {
   "cell_type": "markdown",
   "id": "decreased-victorian",
   "metadata": {},
   "source": [
    "### Map all epicentres"
   ]
  },
  {
   "cell_type": "code",
   "execution_count": null,
   "id": "welsh-award",
   "metadata": {},
   "outputs": [],
   "source": [
    "base = './tiff/nz-topo50-maps'\n",
    "fname = base+'.tif'\n",
    "tfwfile = base+'.tfw'\n",
    "ds = gdal.Open(fname)\n",
    "data = ds.ReadAsArray()\n",
    "\n",
    "extent = findbounds(tfwfile, ds)\n",
    "\n",
    "projection = ccrs.epsg('2193') #for NZTM"
   ]
  },
  {
   "cell_type": "code",
   "execution_count": null,
   "id": "endless-semester",
   "metadata": {},
   "outputs": [],
   "source": [
    "extent"
   ]
  },
  {
   "cell_type": "code",
   "execution_count": null,
   "id": "derived-dublin",
   "metadata": {},
   "outputs": [],
   "source": [
    "#find only earthquakes within area of map\n",
    "#geodataframe covering map area\n",
    "# ma = gpd.GeoSeries(Polygon([(extent[0], extent[2]), (extent[0], extent[3]), (extent[1], extent[3]), (extent[1], extent[2])]), crs=2193)\n",
    "# map_area = gpd.GeoDataFrame(geometry=gpd.GeoSeries(ma))\n",
    "\n",
    "#intersection\n",
    "# eqsmap = gpd.overlay(eqs, map_area, how='intersection')"
   ]
  },
  {
   "cell_type": "code",
   "execution_count": null,
   "id": "provincial-hazard",
   "metadata": {
    "tags": []
   },
   "outputs": [],
   "source": [
    "#number of earthquakes selected\n",
    "len(eqs)"
   ]
  },
  {
   "cell_type": "code",
   "execution_count": null,
   "id": "every-effort",
   "metadata": {},
   "outputs": [],
   "source": [
    "eqs.head()"
   ]
  },
  {
   "cell_type": "code",
   "execution_count": null,
   "id": "recovered-watershed",
   "metadata": {},
   "outputs": [],
   "source": [
    "eqsrecent = eqs[eqs['origintime']>='2021-12-30']\n",
    "eqsold = eqs[eqs['origintime']<'2021-12-30']"
   ]
  },
  {
   "cell_type": "code",
   "execution_count": null,
   "id": "clear-integration",
   "metadata": {},
   "outputs": [],
   "source": [
    "len(eqsrecent)"
   ]
  },
  {
   "cell_type": "markdown",
   "id": "scheduled-digest",
   "metadata": {},
   "source": [
    "### 5 km circle"
   ]
  },
  {
   "cell_type": "code",
   "execution_count": null,
   "id": "naked-despite",
   "metadata": {},
   "outputs": [],
   "source": [
    "rcl = gpd.GeoSeries(Point(175.564,-39.281), crs=4326)\n",
    "vent = rcl.to_crs(crs=2193)\n",
    "vent"
   ]
  },
  {
   "cell_type": "code",
   "execution_count": null,
   "id": "acceptable-skirt",
   "metadata": {},
   "outputs": [],
   "source": [
    "circle = vent.buffer(5000)"
   ]
  },
  {
   "cell_type": "markdown",
   "id": "popular-sound",
   "metadata": {},
   "source": [
    "## Time series analysis"
   ]
  },
  {
   "cell_type": "code",
   "execution_count": null,
   "id": "pregnant-poetry",
   "metadata": {},
   "outputs": [],
   "source": [
    "#date column from origin time, uses first of month for every date in that month\n",
    "eqs['date'] = pd.to_datetime(eqs['origintime'].dt.year.astype(str) + eqs['origintime'].dt.month.astype(str), format='%Y%m')"
   ]
  },
  {
   "cell_type": "code",
   "execution_count": null,
   "id": "suspended-drilling",
   "metadata": {},
   "outputs": [],
   "source": [
    "eqs.head()"
   ]
  },
  {
   "cell_type": "code",
   "execution_count": null,
   "id": "underlying-drain",
   "metadata": {},
   "outputs": [],
   "source": [
    "#group by month\n",
    "month = eqs.groupby(['date']).agg({'magnitude': 'count'})\n",
    "month.rename(columns={'magnitude': 'count'}, inplace=True)"
   ]
  },
  {
   "cell_type": "code",
   "execution_count": null,
   "id": "domestic-friend",
   "metadata": {},
   "outputs": [],
   "source": [
    "fig,ax1 = plt.subplots(1, 1, figsize=(10,5))\n",
    "\n",
    "ax1.vlines(month.index, 0, month['count'], color='cornflowerblue', linewidth=10)\n",
    "# ax.xaxis.grid()\n",
    "# ax.yaxis.grid()\n",
    "\n",
    "ax1.set_xlim(left=dt.datetime(2019,1,1))\n",
    "ax1.set_ylim(bottom=0)\n",
    "ax1.set_ylabel('Earthquakes per month', fontsize=12)\n",
    "ax1.set_title('Monthly number', fontsize=16)\n",
    "# plt.savefig('geonet_time-series_monthly_number_distance.png', facecolor='white', dpi=200)"
   ]
  },
  {
   "cell_type": "markdown",
   "id": "coordinated-instruction",
   "metadata": {},
   "source": [
    "## Map with time-series superimposed"
   ]
  },
  {
   "cell_type": "code",
   "execution_count": null,
   "id": "under-planning",
   "metadata": {},
   "outputs": [],
   "source": [
    "subplot_kw = dict(projection=projection)\n",
    "fig,ax = plt.subplots(subplot_kw=subplot_kw, dpi=250)\n",
    "img = ax.imshow(data[:3, :, :].transpose((1, 2, 0)), extent=extent, origin='upper', alpha=0.7)\n",
    "\n",
    "#eqs epicentres as circles\n",
    "eqsold.plot(ax=ax, marker='o', markersize=1.5, color='red', alpha=0.2, label='2019 to 2021 Dec 29')\n",
    "eqsrecent.plot(ax=ax, marker='o', markersize=1.5, color='black', label='since 2021 Dec 30')\n",
    "\n",
    "#5 km radius circle\n",
    "circle.plot(ax=ax, facecolor='none', edgecolor='cornflowerblue', linestyle='--')\n",
    "\n",
    "ax.legend(loc='upper left', fontsize=4)\n",
    "\n",
    "ax.text(0.58, 0.03,'Data Souce: GeoNet\\nwww.geonet.org.nz/data/types/eq_catalogue',\n",
    "        fontsize=4,\n",
    "        color='grey',\n",
    "        bbox=dict(facecolor='white', boxstyle='round', edgecolor='grey'),\n",
    "        horizontalalignment='left',\n",
    "        verticalalignment='bottom',\n",
    "        transform = ax.transAxes)\n",
    "\n",
    "ax.text(0.58, 0.1,'Basemap: LINZ\\nwww.linz.govt.nz',\n",
    "        fontsize=4,\n",
    "        color='grey',\n",
    "        bbox=dict(facecolor='white', boxstyle='round', edgecolor='grey'),\n",
    "        horizontalalignment='left',\n",
    "        verticalalignment='bottom',\n",
    "        transform = ax.transAxes)\n",
    "\n",
    "plt.suptitle('Recent earthquakes cluster near Ruapehu\\'s crater lake', fontsize=8, y=0.95)\n",
    "ax.set_title('Earthquakes since 2019 within 5 km of crater and less than 10 km deep', fontsize=5)\n",
    "\n",
    "# this is an inset axes over the main axes\n",
    "# position/size doesn't work the way I expect, adjusted till looked okay\n",
    "ax1 = fig.add_axes([.28, .17, .25, .125], facecolor='white')\n",
    "\n",
    "ax1.vlines(month.index, 0, month['count'], color='cornflowerblue', linewidth=2, label='monthly number')\n",
    "ax1.set_xlim(left=dt.datetime(2019,1,1))\n",
    "ax1.set_ylim(bottom=0)\n",
    "\n",
    "plt.yticks([0,10,20, 30], fontsize=4)\n",
    "ax1.yaxis.set_tick_params(pad=1)\n",
    "\n",
    "#x is messy\n",
    "x = ['2019-01-01', '2020-01-01', '2021-01-01', '2022-01-10']\n",
    "xdates = [dt.datetime.strptime(dstr,'%Y-%m-%d') for dstr in x]\n",
    "plt.xticks(xdates, fontsize=4)\n",
    "ax1.xaxis.set_tick_params(pad=1)\n",
    "\n",
    "ax1.legend(loc='upper left', fontsize=4)\n",
    "\n",
    "plt.savefig('map_revised.png', facecolor='white', dpi=600, bbox_inches='tight')"
   ]
  }
 ],
 "metadata": {
  "kernelspec": {
   "display_name": "Python 3",
   "language": "python",
   "name": "python3"
  },
  "language_info": {
   "codemirror_mode": {
    "name": "ipython",
    "version": 3
   },
   "file_extension": ".py",
   "mimetype": "text/x-python",
   "name": "python",
   "nbconvert_exporter": "python",
   "pygments_lexer": "ipython3",
   "version": "3.7.8"
  }
 },
 "nbformat": 4,
 "nbformat_minor": 5
}
